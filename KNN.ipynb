{
  "nbformat": 4,
  "nbformat_minor": 0,
  "metadata": {
    "colab": {
      "provenance": []
    },
    "kernelspec": {
      "name": "python3",
      "display_name": "Python 3"
    },
    "language_info": {
      "name": "python"
    }
  },
  "cells": [
    {
      "cell_type": "markdown",
      "source": [
        "<p style=\"text-align:center\">\n",
        "    <a href=\"https://www.youtube.com/@edumettlecs\" target=\"_blank\">\n",
        "    <img src=\"https://lh5.googleusercontent.com/Uinc5pi5HM20SvzCQQ51KEEH4Pwx4JMySDWYmd5POLiLZB5YaAt17i6ygplVlwrOxPE=w2400\" width=\"200\" alt=\"EduMettle Logo\"  />\n",
        "    </a>\n",
        "</p>\n",
        "\n",
        "# K Nearest Neighbors\n",
        "\n",
        "## Objectives\n",
        "\n",
        "*   Using K Nearest Neighbors to classify data"
      ],
      "metadata": {
        "id": "kSB6a5pmzU5y"
      }
    },
    {
      "cell_type": "markdown",
      "source": [
        "In this Lab you will load a customer dataset, fit the data, and use K-Nearest Neighbors to predict a data point. But what is **K-Nearest Neighbors**?\n"
      ],
      "metadata": {
        "id": "37iDxyBazmDG"
      }
    },
    {
      "cell_type": "markdown",
      "source": [
        "**K-Nearest Neighbors** is a supervised learning algorithm. Where the data is 'trained' with data points corresponding to their classification. To predict the class of a given data point, it takes into account the classes of the 'K' nearest data points and chooses the class in which the majority of the 'K' nearest data points belong to as the predicted class.\n"
      ],
      "metadata": {
        "id": "xxhJC_TCzpjO"
      }
    },
    {
      "cell_type": "markdown",
      "source": [
        "### Here's an visualization of the K-Nearest Neighbors algorithm.\n",
        "\n",
        "<img src=\"https://lh4.googleusercontent.com/UZ9kdz0EQHOVdnDjWNde88RyFMYaMarS6lCLAHWmQozCvoIaPsXvth4IfYroJgOA4oo=w2400\">\n"
      ],
      "metadata": {
        "id": "LlRRcwQ8zpeS"
      }
    },
    {
      "cell_type": "markdown",
      "source": [
        "In this case, we have data points of Class A and B. We want to predict what the star (test data point) is. If we consider a k value of 3 (3 nearest data points), we will obtain a prediction of Class B. Yet if we consider a k value of 6, we will obtain a prediction of Class A.\n"
      ],
      "metadata": {
        "id": "MeRbDW4Fzpad"
      }
    },
    {
      "cell_type": "markdown",
      "source": [
        "In this sense, it is important to consider the value of k. Hopefully from this diagram, you should get a sense of what the K-Nearest Neighbors algorithm is. It considers the 'K' Nearest Neighbors (data points) when it predicts the classification of the test point.\n"
      ],
      "metadata": {
        "id": "EmFo9tjJzyR0"
      }
    },
    {
      "cell_type": "markdown",
      "source": [
        "\n",
        "\n",
        "-----\n",
        "\n"
      ],
      "metadata": {
        "id": "ZdTk1KYX0ZUh"
      }
    },
    {
      "cell_type": "markdown",
      "source": [
        "## About the dataset"
      ],
      "metadata": {
        "id": "AEtM1xua1suS"
      }
    },
    {
      "cell_type": "markdown",
      "source": [
        "https://drive.google.com/file/d/1hH_67ziiRbhlKfnMGbOjt6zXyLOVazPM/view?usp=sharing"
      ],
      "metadata": {
        "id": "zacR7qBX1NI7"
      }
    },
    {
      "cell_type": "markdown",
      "source": [
        "Imagine a telecommunications provider has segmented its customer base by service usage patterns, categorizing the customers into four groups. If demographic data can be used to predict group membership, the company can customize offers for individual prospective customers. It is a classification problem. That is, given the dataset,  with predefined labels, we need to build a model to be used to predict class of a new or unknown case.\n",
        "\n",
        "The example focuses on using demographic data, such as region, age, and marital, to predict usage patterns.\n",
        "\n",
        "The target field, called **custcat**, has four possible values that correspond to the four customer groups, as follows:\n",
        "1- Basic Service\n",
        "2- E-Service\n",
        "3- Plus Service\n",
        "4- Total Service\n",
        "\n",
        "Our objective is to build a classifier, to predict the class of unknown cases. We will use a specific type of classification called K nearest neighbour.\n"
      ],
      "metadata": {
        "id": "NKrue7aK1qPD"
      }
    },
    {
      "cell_type": "code",
      "execution_count": null,
      "metadata": {
        "id": "8jKrl51OwV4Z"
      },
      "outputs": [],
      "source": [
        "# Downloading the dataset\n",
        "!wget --no-check-certificate 'https://docs.google.com/uc?export=download&id=1hH_67ziiRbhlKfnMGbOjt6zXyLOVazPM' -O teleCust1000t.csv"
      ]
    },
    {
      "cell_type": "markdown",
      "source": [
        "## Importing the required modules"
      ],
      "metadata": {
        "id": "wz2kda2S1gXB"
      }
    },
    {
      "cell_type": "code",
      "source": [
        "import numpy as np\n",
        "import matplotlib.pyplot as plt\n",
        "import pandas as pd\n",
        "import numpy as np\n",
        "from sklearn import preprocessing\n",
        "%matplotlib inline"
      ],
      "metadata": {
        "id": "Bf5F_VUA1bZ-"
      },
      "execution_count": null,
      "outputs": []
    },
    {
      "cell_type": "markdown",
      "source": [
        "## Load Data from the CSV file"
      ],
      "metadata": {
        "id": "MAtQixyK1lxw"
      }
    },
    {
      "cell_type": "code",
      "source": [
        "df = pd.read_csv('teleCust1000t.csv')\n",
        "df.head()"
      ],
      "metadata": {
        "id": "CNlq8SuF1bXH"
      },
      "execution_count": null,
      "outputs": []
    },
    {
      "cell_type": "markdown",
      "source": [
        "## Data visualization and analysis"
      ],
      "metadata": {
        "id": "BF8MuTT82D7d"
      }
    },
    {
      "cell_type": "markdown",
      "source": [
        "Let’s see how many of each class is in our data set"
      ],
      "metadata": {
        "id": "bo-tDepN2ChF"
      }
    },
    {
      "cell_type": "code",
      "source": [
        "df['custcat'].value_counts()"
      ],
      "metadata": {
        "id": "NEOIsYFZ1bT_"
      },
      "execution_count": null,
      "outputs": []
    },
    {
      "cell_type": "markdown",
      "source": [
        "You can easily explore your data using visualization techniques:\n"
      ],
      "metadata": {
        "id": "Mlgl8zU26Gux"
      }
    },
    {
      "cell_type": "code",
      "source": [
        "df.hist(column='income', bins=50)"
      ],
      "metadata": {
        "id": "16v54v9j1bQ_"
      },
      "execution_count": null,
      "outputs": []
    },
    {
      "cell_type": "markdown",
      "source": [
        "## Feature Set"
      ],
      "metadata": {
        "id": "rKHBn0o06JJV"
      }
    },
    {
      "cell_type": "markdown",
      "source": [
        "Let's Define a feature sets, X:"
      ],
      "metadata": {
        "id": "RVcSm2dw6NBY"
      }
    },
    {
      "cell_type": "code",
      "source": [
        "df.columns"
      ],
      "metadata": {
        "id": "WPIiFI1Y6I-w"
      },
      "execution_count": null,
      "outputs": []
    },
    {
      "cell_type": "markdown",
      "source": [
        "To use scikit learn library, we have to convert the pandas to a numpy array"
      ],
      "metadata": {
        "id": "afws37tk6VUp"
      }
    },
    {
      "cell_type": "code",
      "source": [
        "X = df[['region', 'tenure','age', 'marital', 'address', 'income', 'ed', 'employ','retire', 'gender', 'reside']] .values  #.astype(float)\n",
        "X[0:5]"
      ],
      "metadata": {
        "id": "4L_OIgP56I78"
      },
      "execution_count": null,
      "outputs": []
    },
    {
      "cell_type": "markdown",
      "source": [
        "What are our lables?"
      ],
      "metadata": {
        "id": "YzyBBYlZ6lwM"
      }
    },
    {
      "cell_type": "code",
      "source": [
        "y = df['custcat'].values\n",
        "y[0:5]"
      ],
      "metadata": {
        "id": "ykaARYKy6I5l"
      },
      "execution_count": null,
      "outputs": []
    },
    {
      "cell_type": "markdown",
      "source": [
        "## Normalise Data"
      ],
      "metadata": {
        "id": "XyqYIWoU6qVc"
      }
    },
    {
      "cell_type": "markdown",
      "source": [
        "Data Standardization gives the data zero mean and unit variance, it is good practice, especially for algorithms such as KNN which is based on the distance of data points:\n"
      ],
      "metadata": {
        "id": "znzLKdAv6qSt"
      }
    },
    {
      "cell_type": "code",
      "source": [
        "X = preprocessing.StandardScaler().fit(X).transform(X.astype(float))\n",
        "X[0:5]"
      ],
      "metadata": {
        "id": "jRA7ON-z6I2v"
      },
      "execution_count": null,
      "outputs": []
    },
    {
      "cell_type": "markdown",
      "source": [
        "## Train Test Split"
      ],
      "metadata": {
        "id": "ULf_sXEi6zJg"
      }
    },
    {
      "cell_type": "markdown",
      "source": [
        "Out of Sample Accuracy is the percentage of correct predictions that the model makes on data that the model has NOT been trained on. Doing a train and test on the same dataset will most likely have low out-of-sample accuracy, due to the likelihood of our model overfitting.\n",
        "\n",
        "It is important that our models have a high, out-of-sample accuracy, because the purpose of any model, of course, is to make correct predictions on unknown data. So how can we improve out-of-sample accuracy? One way is to use an evaluation approach called Train/Test Split.\n",
        "Train/Test Split involves splitting the dataset into training and testing sets respectively, which are mutually exclusive. After which, you train with the training set and test with the testing set.\n",
        "\n",
        "This will provide a more accurate evaluation on out-of-sample accuracy because the testing dataset is not part of the dataset that has been used to train the model. It is more realistic for the real world problems."
      ],
      "metadata": {
        "id": "_bvtiv_06zHD"
      }
    },
    {
      "cell_type": "code",
      "source": [
        "from sklearn.model_selection import train_test_split\n",
        "X_train, X_test, y_train, y_test = train_test_split( X, y, test_size=0.2, random_state=4)\n",
        "print ('Train set:', X_train.shape,  y_train.shape)\n",
        "print ('Test set:', X_test.shape,  y_test.shape)"
      ],
      "metadata": {
        "id": "phbIm1M76I0B"
      },
      "execution_count": null,
      "outputs": []
    },
    {
      "cell_type": "markdown",
      "source": [
        "## Classification"
      ],
      "metadata": {
        "id": "l8rbCjxZ6-TL"
      }
    },
    {
      "cell_type": "markdown",
      "source": [
        "### Importing library to implement KNN"
      ],
      "metadata": {
        "id": "-rp3c_mH7Ads"
      }
    },
    {
      "cell_type": "code",
      "source": [
        "from sklearn.neighbors import KNeighborsClassifier"
      ],
      "metadata": {
        "id": "bGkWXMy87BbR"
      },
      "execution_count": null,
      "outputs": []
    },
    {
      "cell_type": "markdown",
      "source": [
        "# Training"
      ],
      "metadata": {
        "id": "y7tNYBxy71rj"
      }
    },
    {
      "cell_type": "markdown",
      "source": [
        "Let's start the classification with k = 4 for now:"
      ],
      "metadata": {
        "id": "-gkCwTa175W_"
      }
    },
    {
      "cell_type": "code",
      "source": [
        "k = 4\n",
        "#Train Model and Predict  \n",
        "neigh = KNeighborsClassifier(n_neighbors = k).fit(X_train,y_train)\n",
        "neigh"
      ],
      "metadata": {
        "id": "BDK5_-xR7BZP"
      },
      "execution_count": null,
      "outputs": []
    },
    {
      "cell_type": "markdown",
      "source": [
        "## Predicting\n",
        "We can use the model to make predictions on the test set:"
      ],
      "metadata": {
        "id": "3YpzgKjk8AwK"
      }
    },
    {
      "cell_type": "code",
      "source": [
        "yhat = neigh.predict(X_test)\n",
        "yhat[0:5]"
      ],
      "metadata": {
        "id": "rLjsVGvy7BWm"
      },
      "execution_count": null,
      "outputs": []
    },
    {
      "cell_type": "markdown",
      "source": [
        "## Accuracy evaluation\n",
        "\n",
        "In multilabel classification, **accuracy classification score** is a function that computes subset accuracy. This function is equal to the jaccard_score function. Essentially, it calculates how closely the actual labels and predicted labels are matched in the test set.\n"
      ],
      "metadata": {
        "id": "G76MPzSs_kqj"
      }
    },
    {
      "cell_type": "code",
      "source": [
        "from sklearn import metrics\n",
        "print(\"Train set Accuracy: \", metrics.accuracy_score(y_train, neigh.predict(X_train)))\n",
        "print(\"Test set Accuracy: \", metrics.accuracy_score(y_test, yhat))"
      ],
      "metadata": {
        "id": "EDTS11tM7BTw"
      },
      "execution_count": null,
      "outputs": []
    },
    {
      "cell_type": "markdown",
      "source": [
        "## What about other K?\n",
        "\n",
        "K in KNN, is the number of nearest neighbors to examine. It is supposed to be specified by the user. So, how can we choose right value for K?\n",
        "The general solution is to reserve a part of your data for testing the accuracy of the model. Then choose k =1, use the training part for modeling, and calculate the accuracy of prediction using all samples in your test set. Repeat this process, increasing the k, and see which k is the best for your model.\n",
        "\n",
        "We can calculate the accuracy of KNN for different values of k.\n"
      ],
      "metadata": {
        "id": "6H7meqUjCTph"
      }
    },
    {
      "cell_type": "code",
      "source": [
        "Ks = 10\n",
        "mean_acc = np.zeros((Ks-1))\n",
        "std_acc = np.zeros((Ks-1))\n",
        "\n",
        "for n in range(1,Ks):\n",
        "    \n",
        "    #Train Model and Predict  \n",
        "    neigh = KNeighborsClassifier(n_neighbors = n).fit(X_train,y_train)\n",
        "    yhat=neigh.predict(X_test)\n",
        "    mean_acc[n-1] = metrics.accuracy_score(y_test, yhat)\n",
        "\n",
        "    \n",
        "    std_acc[n-1]=np.std(yhat==y_test)/np.sqrt(yhat.shape[0])\n",
        "\n",
        "mean_acc"
      ],
      "metadata": {
        "id": "7CVXwZe-7BRC"
      },
      "execution_count": null,
      "outputs": []
    },
    {
      "cell_type": "markdown",
      "source": [
        "## Plot the model accuracy for a different number of neighbors.\n"
      ],
      "metadata": {
        "id": "SvNwHB-CCZ2S"
      }
    },
    {
      "cell_type": "code",
      "source": [
        "plt.plot(range(1,Ks),mean_acc,'g')\n",
        "plt.fill_between(range(1,Ks),mean_acc - 1 * std_acc,mean_acc + 1 * std_acc, alpha=0.10)\n",
        "plt.fill_between(range(1,Ks),mean_acc - 3 * std_acc,mean_acc + 3 * std_acc, alpha=0.10,color=\"green\")\n",
        "plt.legend(('Accuracy ', '+/- 1xstd','+/- 3xstd'))\n",
        "plt.ylabel('Accuracy ')\n",
        "plt.xlabel('Number of Neighbors (K)')\n",
        "plt.tight_layout()\n",
        "plt.show()"
      ],
      "metadata": {
        "id": "1E7AvcZACaF6"
      },
      "execution_count": null,
      "outputs": []
    },
    {
      "cell_type": "markdown",
      "source": [
        "## The K with the best accuracy"
      ],
      "metadata": {
        "id": "HFChUsK4Ci_v"
      }
    },
    {
      "cell_type": "code",
      "source": [
        "print( \"The best accuracy was with\", mean_acc.max(), \"with k=\", mean_acc.argmax()+1) "
      ],
      "metadata": {
        "id": "zX2Wau8gCik5"
      },
      "execution_count": null,
      "outputs": []
    },
    {
      "cell_type": "markdown",
      "source": [
        "# Thank you \n",
        "## EduMettle ©\n",
        "### Upgrade Your Mind!"
      ],
      "metadata": {
        "id": "Ia06B7UxCrbE"
      }
    }
  ]
}